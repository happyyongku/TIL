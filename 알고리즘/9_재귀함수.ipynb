{
 "cells": [
  {
   "cell_type": "code",
   "execution_count": 2,
   "metadata": {},
   "outputs": [
    {
     "name": "stdout",
     "output_type": "stream",
     "text": [
      "[10, 20, 30]\n"
     ]
    }
   ],
   "source": [
    "# 재귀함수 1\n",
    "# 리스트 요소 옮기기\n",
    "\n",
    "def recur1(i, n):\n",
    "    '''\n",
    "    Args:\n",
    "        i : 현재 처리할 인덱스\n",
    "        n : 리스트 요소의 전체 개수\n",
    "    '''\n",
    "    if i == n:\n",
    "        return\n",
    "     \n",
    "    B[i] = A[i]\n",
    "    recur1(i+1, n)\n",
    "    \n",
    "\n",
    "A = [10, 20, 30]\n",
    "n = len(A)\n",
    "B = [0] * n\n",
    "\n",
    "recur1(0, n)\n",
    "print(B)  # A의 요소값이 출력되도록 함"
   ]
  },
  {
   "cell_type": "code",
   "execution_count": 10,
   "metadata": {},
   "outputs": [
    {
     "name": "stdout",
     "output_type": "stream",
     "text": [
      "1\n"
     ]
    }
   ],
   "source": [
    "# 리스트 요소 탐색\n",
    "\n",
    "def recur2(i, n, target):\n",
    "    # target이 a에 있으면 1, 없으면 -1을 반환\n",
    "    if i == n:\n",
    "        return -1\n",
    "    \n",
    "    elif a[i] == target:\n",
    "        return 1\n",
    "    \n",
    "    # 마지막에 결정된 리턴값을 이전 단계에 전달\n",
    "    return recur2(i+1, n, target)\n",
    "        \n",
    "\n",
    "a = [7,3,2,51,4]\n",
    "n = len(a)\n",
    "target = 51\n",
    "print(recur2(0, n, target))"
   ]
  },
  {
   "cell_type": "code",
   "execution_count": 11,
   "metadata": {},
   "outputs": [
    {
     "name": "stdout",
     "output_type": "stream",
     "text": [
      "[0, 0, 0]\n",
      "[0, 0, 1]\n",
      "[0, 1, 0]\n",
      "[0, 1, 1]\n",
      "[1, 0, 0]\n",
      "[1, 0, 1]\n",
      "[1, 1, 0]\n",
      "[1, 1, 1]\n"
     ]
    }
   ],
   "source": [
    "# 부분 집합\n",
    "# 크기가 2인 부분 집합\n",
    "# [0, 1], [1, 0], [0, 0], [1, 1]\n",
    "\n",
    "def recur3(i, n):\n",
    "    \n",
    "    if i == n:   # 종료 조건\n",
    "        print(a)\n",
    "        return\n",
    "    \n",
    "    for j in range(2):\n",
    "        a[i] = j  # 현재 인덱스의 값 할당\n",
    "        recur3(i+1, n)  # 다음 인덱스 값 할당\n",
    "    \n",
    "    \n",
    "n = 3\n",
    "a = [0] * n\n",
    "recur3(0,n)"
   ]
  },
  {
   "cell_type": "code",
   "execution_count": 12,
   "metadata": {},
   "outputs": [
    {
     "name": "stdout",
     "output_type": "stream",
     "text": [
      "['사과', '사과', '사과']\n",
      "['사과', '사과', '딸기']\n",
      "['사과', '사과', '포도']\n",
      "['사과', '딸기', '사과']\n",
      "['사과', '딸기', '딸기']\n",
      "['사과', '딸기', '포도']\n",
      "['사과', '포도', '사과']\n",
      "['사과', '포도', '딸기']\n",
      "['사과', '포도', '포도']\n",
      "['딸기', '사과', '사과']\n",
      "['딸기', '사과', '딸기']\n",
      "['딸기', '사과', '포도']\n",
      "['딸기', '딸기', '사과']\n",
      "['딸기', '딸기', '딸기']\n",
      "['딸기', '딸기', '포도']\n",
      "['딸기', '포도', '사과']\n",
      "['딸기', '포도', '딸기']\n",
      "['딸기', '포도', '포도']\n",
      "['포도', '사과', '사과']\n",
      "['포도', '사과', '딸기']\n",
      "['포도', '사과', '포도']\n",
      "['포도', '딸기', '사과']\n",
      "['포도', '딸기', '딸기']\n",
      "['포도', '딸기', '포도']\n",
      "['포도', '포도', '사과']\n",
      "['포도', '포도', '딸기']\n",
      "['포도', '포도', '포도']\n"
     ]
    }
   ],
   "source": [
    "# 특정 리스트의 중복 순열\n",
    "\n",
    "def recur4(i, n):\n",
    "    if i == n:\n",
    "        print(a)\n",
    "        return\n",
    "    \n",
    "    for f in fruits:\n",
    "        a[i] = f\n",
    "        recur4(i+1, n)\n",
    "    \n",
    "fruits = ['사과', '딸기','포도']\n",
    "n = len(fruits)\n",
    "a = [0] * n\n",
    "recur4(0, n)"
   ]
  },
  {
   "cell_type": "code",
   "execution_count": 4,
   "metadata": {},
   "outputs": [
    {
     "name": "stdout",
     "output_type": "stream",
     "text": [
      "['사과', '딸기', '포도']\n",
      "['사과', '포도', '딸기']\n",
      "['딸기', '사과', '포도']\n",
      "['딸기', '포도', '사과']\n",
      "['포도', '사과', '딸기']\n",
      "['포도', '딸기', '사과']\n"
     ]
    }
   ],
   "source": [
    "# 특정 리스틔 순열\n",
    "\n",
    "def recur5(i, n):\n",
    "    if i == n:\n",
    "        print(a)\n",
    "        return\n",
    "    \n",
    "    for f in fruits:\n",
    "        if f not in a[:i]:\n",
    "            a[i] = f\n",
    "            recur5(i+1, n)\n",
    "        \n",
    "fruits = ['사과', '딸기','포도']\n",
    "n = len(fruits)\n",
    "a = [0] * n\n",
    "recur5(0, n)"
   ]
  },
  {
   "cell_type": "code",
   "execution_count": 3,
   "metadata": {},
   "outputs": [
    {
     "name": "stdout",
     "output_type": "stream",
     "text": [
      "['사과', '딸기', '포도']\n",
      "['사과', '포도', '딸기']\n",
      "['딸기', '사과', '포도']\n",
      "['딸기', '포도', '사과']\n",
      "['포도', '딸기', '사과']\n",
      "['포도', '사과', '딸기']\n"
     ]
    }
   ],
   "source": [
    "# 특정 리스트의 순열\n",
    "# 탐색을 하지 않고 교환하기에 탐색하는 것보다 시간이 덜 듦 \n",
    "\n",
    "def recur6(i, n):\n",
    "    if i == n:\n",
    "        print(fruits)\n",
    "        return\n",
    "    \n",
    "    for j in range(i, n):\n",
    "        fruits[i], fruits[j] = fruits[j], fruits[i]  # 현재 인덱스의 값을 다른 인덱스의 값을로 변경\n",
    "        recur6(i+1, n) # 다음 인덱스 값 결정\n",
    "        fruits[i], fruits[j] = fruits[j], fruits[i]  # 복귀\n",
    "        # 복귀를 안하면 서로 다른 인덱스가 입력되어 다른 분기로 생성됨\n",
    "        \n",
    "fruits = ['사과', '딸기','포도']\n",
    "n = len(fruits)\n",
    "recur6(0, n)"
   ]
  },
  {
   "cell_type": "code",
   "execution_count": 2,
   "metadata": {},
   "outputs": [
    {
     "name": "stdout",
     "output_type": "stream",
     "text": [
      "['사과', '딸기', '포도']\n",
      "['사과', '포도', '딸기']\n",
      "['딸기', '사과', '포도']\n",
      "['딸기', '포도', '사과']\n",
      "['포도', '딸기', '사과']\n",
      "['포도', '사과', '딸기']\n",
      "['사과', '딸기', '포도']\n"
     ]
    }
   ],
   "source": [
    "# 특정 리스트의 순열\n",
    "\n",
    "def recur7(arr, i, n):\n",
    "    if i == n:\n",
    "        print(arr)\n",
    "        return\n",
    "    \n",
    "    for j in range(i, n):\n",
    "        temp = arr.copy()\n",
    "        arr[i], arr[j] = arr[j], arr[i]  # 현재 인덱스의 값을 다른 인덱스의 값을로 변경\n",
    "        recur7(arr, i+1, n) # 다음 인덱스 값 결정\n",
    "        arr[i], arr[j] = arr[j], arr[i]  # 복귀\n",
    "        # 복귀를 안하면 서로 다른 인덱스가 입력되어 다른 분기로 생성됨\n",
    "        arr = temp\n",
    "fruits = ['사과', '딸기','포도']\n",
    "n = len(fruits)\n",
    "recur7(fruits, 0, n)\n",
    "print(fruits)"
   ]
  },
  {
   "cell_type": "code",
   "execution_count": null,
   "metadata": {},
   "outputs": [
    {
     "ename": "",
     "evalue": "",
     "output_type": "error",
     "traceback": [
      "\u001b[1;31mThe Kernel crashed while executing code in the the current cell or a previous cell. Please review the code in the cell(s) to identify a possible cause of the failure. Click <a href='https://aka.ms/vscodeJupyterKernelCrash'>here</a> for more info. View Jupyter <a href='command:jupyter.viewOutput'>log</a> for further details."
     ]
    }
   ],
   "source": [
    "# 1 ~ k 까지 중복을 허용해서 3자리수 만들기\n",
    " \n",
    "def recur8(i, n, k):\n",
    "    if i == n:\n",
    "        print(a)\n",
    "        return \n",
    "        \n",
    "    for j in range(1, k+1):\n",
    "        a[i] = j\n",
    "        recur8(i+1, n, k)\n",
    "        \n",
    "n = 3   # 자릿수\n",
    "k = 5 \n",
    "a = [0]*n\n",
    "\n",
    "recur8(0, n, k)"
   ]
  }
 ],
 "metadata": {
  "kernelspec": {
   "display_name": "Python 3",
   "language": "python",
   "name": "python3"
  },
  "language_info": {
   "codemirror_mode": {
    "name": "ipython",
    "version": 3
   },
   "file_extension": ".py",
   "mimetype": "text/x-python",
   "name": "python",
   "nbconvert_exporter": "python",
   "pygments_lexer": "ipython3",
   "version": "3.9.13"
  }
 },
 "nbformat": 4,
 "nbformat_minor": 2
}
