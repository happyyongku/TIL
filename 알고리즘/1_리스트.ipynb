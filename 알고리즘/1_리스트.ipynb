{
 "cells": [
  {
   "cell_type": "code",
   "execution_count": 4,
   "metadata": {},
   "outputs": [
    {
     "name": "stdout",
     "output_type": "stream",
     "text": [
      "[0, 1, 0, 1, 1, 1, 0, 0, 0, 0, 1]\n",
      "[10, 5, 4, 3, 1]\n"
     ]
    }
   ],
   "source": [
    "# 카운팅 정렬\n",
    "# 좀 더 간결한 방법\n",
    "\n",
    "nums = [10,4,3,1,5]\n",
    "max_k = max(nums)\n",
    "\n",
    "counts = [0] * (max_k+1)\n",
    "for n in nums :\n",
    "    counts[n] += 1\n",
    "\n",
    "print(counts)\n",
    "\n",
    "result = []\n",
    "for i, n in enumerate(counts) :\n",
    "    result += [i]*n\n",
    "    \n",
    "print(result[::-1])"
   ]
  },
  {
   "cell_type": "code",
   "execution_count": 6,
   "metadata": {},
   "outputs": [
    {
     "name": "stdout",
     "output_type": "stream",
     "text": [
      "500 : 2\n",
      "100 : 2\n",
      "50 : 1\n",
      "10 : 2\n"
     ]
    }
   ],
   "source": [
    "# 거스름돈 예제\n",
    "money = 1270 # 거슬러 줘야 할 돈\n",
    "changes = [500, 100, 50, 10]  # 동전의 종류\n",
    "\n",
    "# 동전을 최소한으로 거슬러 주기\n",
    "# 500 : 2, 100 : 2, 50 : 1, 10 : 2\n",
    "\n",
    "# mok = money // 500  # 2\n",
    "# money = money % 500 # 270\n",
    "# mok = money // 100 # 2\n",
    "# money = money % 100 # 70\n",
    "\n",
    "for change in changes:\n",
    "    mok, money = divmod(money, change)\n",
    "    print(f'{change} : {mok}')\n",
    "    "
   ]
  },
  {
   "cell_type": "code",
   "execution_count": 11,
   "metadata": {},
   "outputs": [
    {
     "name": "stdout",
     "output_type": "stream",
     "text": [
      "23\n",
      "15\n"
     ]
    }
   ],
   "source": [
    "nums = 12389\n",
    "# 각 자리수의 합\n",
    "\n",
    "mok, res = divmod(nums, 10) # 1238, 9\n",
    "mok, res = divmod(mok, 10) # 123, 8\n",
    "\n",
    "result = 0\n",
    "while nums > 0:\n",
    "    nums, res = divmod(nums, 10)\n",
    "    result += res\n",
    "print(result)\n",
    "\n",
    "nums = 12345\n",
    "result = 0\n",
    "for ch in str(nums):\n",
    "    result += int(ch)\n",
    "print(result)"
   ]
  },
  {
   "cell_type": "code",
   "execution_count": 2,
   "metadata": {},
   "outputs": [
    {
     "name": "stdout",
     "output_type": "stream",
     "text": [
      "[2, 4, 5, 32, 43, 43, 54]\n"
     ]
    }
   ],
   "source": [
    "def counting_sort(iterable):\n",
    "    count = [0]*(max(iterable)+1)\n",
    "    for n in iterable :\n",
    "        count[n] += 1\n",
    "    sorted_list = []\n",
    "    for i, n in enumerate(count):\n",
    "        sorted_list += [i]*n\n",
    "    return sorted_list\n",
    "\n",
    "list1 = [54, 43,5,2, 32, 4, 43]\n",
    "\n",
    "print(counting_sort(list1))\n"
   ]
  },
  {
   "cell_type": "code",
   "execution_count": 6,
   "metadata": {},
   "outputs": [
    {
     "name": "stdout",
     "output_type": "stream",
     "text": [
      "3\n"
     ]
    }
   ],
   "source": [
    "list1 = [0,1,2,6,4,5,6,6,7,8,9]\n",
    "print(list1.index(6))"
   ]
  },
  {
   "cell_type": "code",
   "execution_count": 10,
   "metadata": {},
   "outputs": [
    {
     "name": "stdout",
     "output_type": "stream",
     "text": [
      "[1, 1, 0, 1, 0, 1, 0, 1, 0, 1, 0]\n",
      "[0, 1, 3, 5, 7, 9]\n"
     ]
    },
    {
     "ename": "KeyboardInterrupt",
     "evalue": "",
     "output_type": "error",
     "traceback": [
      "\u001b[1;31m---------------------------------------------------------------------------\u001b[0m",
      "\u001b[1;31mKeyboardInterrupt\u001b[0m                         Traceback (most recent call last)",
      "Cell \u001b[1;32mIn[10], line 19\u001b[0m\n\u001b[0;32m     17\u001b[0m \u001b[38;5;28;01mif\u001b[39;00m \u001b[38;5;241m1\u001b[39m \u001b[38;5;129;01min\u001b[39;00m check:\n\u001b[0;32m     18\u001b[0m     cnt \u001b[38;5;241m+\u001b[39m\u001b[38;5;241m=\u001b[39m \u001b[38;5;241m1\u001b[39m\n\u001b[1;32m---> 19\u001b[0m     list1 \u001b[38;5;241m=\u001b[39m \u001b[38;5;28;43mlist\u001b[39;49m\u001b[43m(\u001b[49m\u001b[38;5;28;43mfilter\u001b[39;49m\u001b[43m(\u001b[49m\u001b[38;5;28;43;01mlambda\u001b[39;49;00m\u001b[43m \u001b[49m\u001b[43mx\u001b[49m\u001b[43m \u001b[49m\u001b[43m:\u001b[49m\u001b[43m \u001b[49m\u001b[43mcheck\u001b[49m\u001b[43m[\u001b[49m\u001b[43mx\u001b[49m\u001b[43m]\u001b[49m\u001b[43m \u001b[49m\u001b[38;5;241;43m==\u001b[39;49m\u001b[43m \u001b[49m\u001b[38;5;241;43m1\u001b[39;49m\u001b[43m,\u001b[49m\u001b[43m \u001b[49m\u001b[43mcheck\u001b[49m\u001b[43m)\u001b[49m\u001b[43m)\u001b[49m\n\u001b[0;32m     20\u001b[0m     i \u001b[38;5;241m=\u001b[39m check[list1[\u001b[38;5;241m-\u001b[39m\u001b[38;5;241m1\u001b[39m]]\n",
      "Cell \u001b[1;32mIn[10], line 19\u001b[0m, in \u001b[0;36m<lambda>\u001b[1;34m(x)\u001b[0m\n\u001b[0;32m     17\u001b[0m \u001b[38;5;28;01mif\u001b[39;00m \u001b[38;5;241m1\u001b[39m \u001b[38;5;129;01min\u001b[39;00m check:\n\u001b[0;32m     18\u001b[0m     cnt \u001b[38;5;241m+\u001b[39m\u001b[38;5;241m=\u001b[39m \u001b[38;5;241m1\u001b[39m\n\u001b[1;32m---> 19\u001b[0m     list1 \u001b[38;5;241m=\u001b[39m \u001b[38;5;28mlist\u001b[39m(\u001b[38;5;28mfilter\u001b[39m(\u001b[38;5;28;01mlambda\u001b[39;00m x : \u001b[43mcheck\u001b[49m[x] \u001b[38;5;241m==\u001b[39m \u001b[38;5;241m1\u001b[39m, check))\n\u001b[0;32m     20\u001b[0m     i \u001b[38;5;241m=\u001b[39m check[list1[\u001b[38;5;241m-\u001b[39m\u001b[38;5;241m1\u001b[39m]]\n",
      "\u001b[1;31mKeyboardInterrupt\u001b[0m: "
     ]
    }
   ],
   "source": [
    "t = int(input())\n",
    "\n",
    "for num in range(t):\n",
    "    knm = list(map(int,input().split()))\n",
    "    k, n, m = knm[0], knm[1], knm[2]\n",
    "    gas_station = list(map(int,input().split()))\n",
    "    gas_station.insert(0,0)\n",
    "    station = [0] * (n+1)\n",
    "    cnt = 0\n",
    "    for idx in gas_station:\n",
    "        station[idx] = 1\n",
    "    print(station)\n",
    "    print(gas_station)\n",
    "    i = 0\n",
    "    while i < len(station):\n",
    "        check = station[i+1: i+k+1]\n",
    "        if 1 in check:\n",
    "            cnt += 1\n",
    "            list1 = list(filter(lambda x : check[x] == 1, check))\n",
    "            i = check[list1[-1]]"
   ]
  },
  {
   "cell_type": "code",
   "execution_count": 31,
   "metadata": {},
   "outputs": [
    {
     "name": "stdout",
     "output_type": "stream",
     "text": [
      "[1, 1, 0, 1, 0, 1, 0, 1, 0, 1, 0]\n",
      "[0, 1, 3, 5, 7, 9]\n",
      "i : 0\n",
      "check : [1, 0, 1]\n",
      "gas_list : [0, 1, 3, 5, 7, 9]\n",
      "cnt : 1\n",
      "i : 3\n",
      "check : [0, 1, 0]\n",
      "gas_list : [0, 1, 3]\n",
      "1\n"
     ]
    }
   ],
   "source": [
    "t = int(input())\n",
    "\n",
    "for num in range(t):\n",
    "    knm = list(map(int,input().split()))\n",
    "    k, n, m = knm[0], knm[1], knm[2]\n",
    "    gas_station = list(map(int,input().split()))\n",
    "    gas_station.insert(0,0)\n",
    "    station = [0] * (n+1)\n",
    "    cnt = 0\n",
    "    for idx in gas_station:\n",
    "        station[idx] = 1\n",
    "    print(station)\n",
    "    print(gas_station)\n",
    "    i = 0\n",
    "    while cnt <= len(gas_station):\n",
    "        check = station[i+1: i+k+1]\n",
    "        print(f'i : {i}')\n",
    "        print(f'check : {check}')\n",
    "        print(f'gas_list : {gas_list}')\n",
    "        if i + k <= n:\n",
    "            if 1 in check:\n",
    "                cnt += 1\n",
    "                gas_list = []\n",
    "                for n in range(len(station[:i+k+1])):\n",
    "                    if station[:i+k+1][n] == 1:\n",
    "                        gas_list.append(n)\n",
    "                i = gas_list[-1]\n",
    "            else:\n",
    "                print(0)\n",
    "                break\n",
    "        else:\n",
    "            print(cnt)\n",
    "            break"
   ]
  }
 ],
 "metadata": {
  "kernelspec": {
   "display_name": "Python 3",
   "language": "python",
   "name": "python3"
  },
  "language_info": {
   "codemirror_mode": {
    "name": "ipython",
    "version": 3
   },
   "file_extension": ".py",
   "mimetype": "text/x-python",
   "name": "python",
   "nbconvert_exporter": "python",
   "pygments_lexer": "ipython3",
   "version": "3.9.13"
  }
 },
 "nbformat": 4,
 "nbformat_minor": 2
}
