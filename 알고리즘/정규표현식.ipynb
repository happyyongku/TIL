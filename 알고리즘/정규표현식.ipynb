{
 "cells": [
  {
   "cell_type": "markdown",
   "metadata": {},
   "source": [
    "## 정규표현식(Regular Expression)\n",
    "+ 문자열 패턴 매칭, 문자열 검색, 파싱, 문자열 바꿈 등을 위한 패턴 문법\n",
    "+ ex) 이메일 패턴 매칭, 전화번호, 주민번호 패턴 매칭\n",
    "### 기본 표현식\n",
    "+ . : 글자 하나를 의미\n",
    "+ ^ : 문자열의 시작\n",
    "+ $ : 문자열의 끝\n",
    "+ ? : 앞문자가 있어도 되고 없어도 됨. ex) appl?e == apple, appe\n",
    "+ (?!) : 대소문자 구분안함\n",
    "+ | : 다자 택일 (OR조건). ex) a|bpple = apple, bpple\n",
    "### 반복기호\n",
    "+ '+' : 1번 이상. ex) a+pple == apple, aaaaapple =! pple\n",
    "+ '*' : 0번 이상. ex) a+pple == apple, aaaaapple, pple\n",
    "+ {m,n} : m번 이상 n번 이하 반복. ex) ca{2,5}t == caat, caaat, caaaat, caaaaat\n",
    "    + {0,} == '*'과 같음 (0번 이상)\n",
    "    + {1,} == '+'과 같음 (1번 이상)\n",
    "    + {0,1} == '?'과 같음 (0번이상 1번이하)\n",
    "## 문자 클래스\n",
    "+ [] : [] 사이의 문자들과 매칭. ex) [abc]pple == aaple,bpple,cpple != dpple\n",
    "+ 문자 클래스의 특수 용도\n",
    "    + [0-9] : [0123456789] 숫자와 매칭\n",
    "    + [a-z] : 알파벳 소문자와 매칭\n",
    "    + [a-zA-z] : 대소문자 안가리고 모든 알파벳과 매칭\n",
    "    + [ㄱ-ㅎ|ㅏ-ㅣ|가-힣] : 모든 한글과 매칭\n",
    "    + [가-힣] : 한글 글자 하나와 매칭\n",
    "\n",
    "+ [^] : 문자 클래스 안의 꺽쇠 표시는 해당 문자들과 이닌 것 과 매칭\n",
    "    + ex) [^abc]pple == dpple, fpple != apple\n",
    "+ \\d : 모든 숫자와 매칭 [0-9]와 같음\n",
    "+ \\D : 숫자가 아닌 것과 매칭 [^0-9]와 같음\n",
    "+ \\w : 문자 + 숫자 + '_'와 매칭\n",
    "+ \\W : 문자 + 숫자 + '_'가 아닌 것과 매칭\n",
    "+ \\s : 화이트 스페이스 문자와 매칭 [\\t \\b \\r \\f \\v]\n",
    "+ \\S : 화이트 스페이스가 아닌 문자와 매칭\n",
    "\n",
    "+ 정규표현식 앞에  r\"\" 사용\n",
    "    + \\b : 단어의 경계, 공백, 탭, 컴마, 대시등과 매칭 (파이썬에서 활용됨)\n",
    "    + \\B : 단어의 경계가 아닌 것과 매칭 (파이썬에서 활용됨)\n",
    "\n",
    "### 그룹 ()\n",
    "+ () : ()안에 있는 모든 문자와 매칭 또는 글룹 기능이 있음\n",
    "\n",
    "---\n",
    "\n",
    "### 파이썬 re 모듈내의 주요 함수\n",
    "+ match() : 문자열의 처음부터 끝까지 정규식과 매칭되는지 검사\n",
    "    + ex) 주민번호, 전화번호 등 정상적으로 입력되었는지 확인\n",
    "+ search() : 문자열의 전체를 검색하여 정규식과 매칭되는 문자열이 있는지 검사\n",
    "+ findall() : 정규식과 매칭되는 모든 문자열을 리스트로 변환\n",
    "+ split() : 정규식과 매칭되는 문자열을 기준으로 파싱하여 리스트로 반환\n",
    "+ sub() : 정규식과 매칭되는 문자열을 다른 문자열로 바꿔줌"
   ]
  },
  {
   "cell_type": "code",
   "execution_count": 2,
   "metadata": {},
   "outputs": [
    {
     "name": "stdout",
     "output_type": "stream",
     "text": [
      "python\n",
      "791009-1234567\n"
     ]
    }
   ],
   "source": [
    "import re\n",
    "\n",
    "#(1) match\n",
    "text = 'python'\n",
    "pattern = re.compile(\"..thon\")  # 정규표현식 생성\n",
    "m = pattern.match(text)  # 매칭되는 결과가 없으면 None 리턴\n",
    "\n",
    "if m :\n",
    "    print(m.group())\n",
    "else:\n",
    "    print('매칭되지 않습니다.')\n",
    "    \n",
    "text = \"791009-1234567\"\n",
    "m = re.match(\"^\\d{6}-\\d{7}$\", text)\n",
    "\n",
    "if m :\n",
    "    print(m.group())\n",
    "else:\n",
    "    print('매칭되지 않습니다.')"
   ]
  },
  {
   "cell_type": "code",
   "execution_count": 3,
   "metadata": {},
   "outputs": [
    {
     "name": "stdout",
     "output_type": "stream",
     "text": [
      "python\n",
      "일치하는 문자열 : care\n",
      "입력받은 문자열 : Good care caee\n",
      "일치하는 문자열의 시작 인덱스 : 5\n",
      "일치하는 문자열의 마지막 인덱스 : 9\n",
      "일치하는 문자열의 시작 및 마지막 인덱스 : (5, 9)\n"
     ]
    }
   ],
   "source": [
    "# (2) search()\n",
    "text = 'program : python'\n",
    "pattern = re.compile(\"..thon\")  # 정규표현식 생성\n",
    "m = pattern.search(text)  # 매칭되는 결과가 없으면 None 리턴\n",
    "\n",
    "if m :\n",
    "    print(m.group())\n",
    "else:\n",
    "    print('매칭되지 않습니다.')\n",
    "    \n",
    "m = re.search(\"ca.e\", \"Good care caee\")\n",
    "print(\"일치하는 문자열 :\", m.group())\n",
    "print(\"입력받은 문자열 :\", m.string)\n",
    "print(\"일치하는 문자열의 시작 인덱스 :\", m.start())\n",
    "print(\"일치하는 문자열의 마지막 인덱스 :\", m.end())\n",
    "print(\"일치하는 문자열의 시작 및 마지막 인덱스 :\", m.span())\n",
    "\n"
   ]
  },
  {
   "cell_type": "code",
   "execution_count": 4,
   "metadata": {},
   "outputs": [
    {
     "name": "stdout",
     "output_type": "stream",
     "text": [
      "['berry', '1berry', '10berry', 'strawberry']\n",
      "['one', 'self', 'the', 'one']\n",
      "line\n",
      "(15, 19)\n",
      "2024-02-06\n",
      "2024-02-06\n",
      "2024\n",
      "02\n",
      "06\n",
      "<a href=\"www.naver.com\" id=\"naver\" class=\"home\">Hello</a>\n",
      "<a href=\"www.naver.com\" id=\"naver\" class=\"home\">Hello</a>\n",
      "www.naver.com\n",
      "Hello\n",
      "010\n",
      "0\n",
      "['<li>나이키</li><li>아디다스</li><li>퓨마</li>']\n",
      "['<li>나이키</li>', '<li>아디다스</li>', '<li>퓨마</li>']\n",
      "[('abcba', 'a', 'b', 'c'), ('기러기러기', '기', '러', '기')]\n",
      "['abc', 'abc', 'abc']\n",
      "['abc', 'abcabc', 'abcabcabc']\n"
     ]
    }
   ],
   "source": [
    "# (3) findall()\n",
    "mlist = re.findall(\"\\w*berry\", \"berry 1berry 10berry apple strawberry\")\n",
    "print(mlist)\n",
    "\n",
    "mlist = re.findall(\"one|self|the\", \"oneself is the one thing\")\n",
    "print(mlist)\n",
    "\n",
    "# 'line'과 일치하지만 line을 포함한 글자들은 매칭되지 않도록 검색\n",
    "# outline(x), linear(x), line(o)\n",
    "m = re.search(r\"\\bline\\b\", \"outline linear line\")\n",
    "print(m.group())\n",
    "print(m.span())\n",
    "\n",
    "# 그룹 캡처 : 패턴 내에서 특정 부분을 그룹으로 묶어, 부분 문자열을 추출하거나 다른 처리 수행\n",
    "# 날짜에서 년, 월, 일 각각 가져오기\n",
    "import re\n",
    "\n",
    "date = '2024-02-06'\n",
    "m = re.search(r'(\\d{4})-(\\d{2})-(\\d{2})', date)\n",
    "\n",
    "print(m.group())   # 매칭된 전체 문자열\n",
    "print(m.group(0))  # 매칭된 전체 문자열\n",
    "print(m.group(1))  # 첫번째 그룹 (년)\n",
    "print(m.group(2))  # 두번째 그룹 (월)\n",
    "print(m.group(3))  # 세번째 그룹 (일)\n",
    "# print(m.group(4))  # 오류 (그룹이 없음)\n",
    "\n",
    "# html에서 a 태그의 원하는 정보 가져오기\n",
    "a_tag = '<a href=\"www.naver.com\" id=\"naver\" class=\"home\">Hello</a>'\n",
    "m = re.search(r'<a.*href=\"(.*?)\".*>(.*)</a>', a_tag)\n",
    "print(m.group())\n",
    "print(m.group(0))\n",
    "print(m.group(1))\n",
    "print(m.group(2))\n",
    "\n",
    "# Greedy 탐색 - 최대 매칭\n",
    "m = re.search(r'\\d{1,3}', \"01034345678\")\n",
    "print(m.group())  # 010\n",
    "\n",
    "# Non - Greedy 탐색 - 최소 매칭\n",
    "# 반복자(+, *, {}) 뒤에 ?을 붙인다.\n",
    "m = re.search(r'\\d{1,3}?', \"01034345678\")\n",
    "print(m.group()) # 0\n",
    "\n",
    "lis = \"<li>나이키</li><li>아디다스</li><li>퓨마</li>\"\n",
    "mlist = re.findall(r'<li>.*</li>', lis)\n",
    "print(mlist)\n",
    "mlist = re.findall(r'<li>.*?</li>', lis)\n",
    "print(mlist)\n",
    "\n",
    "# 그룹 캡쳐를 변수처럼 활용\n",
    "# 3글자 회문 찾기\n",
    "mlist = re.findall(r'((\\w)(\\w)\\2)', \"abb 토마토 마토토 기러기 abc xyx\")\n",
    "mlist = re.findall(r'((\\w)(\\w)(\\w)\\3\\2)', \"abcba 기러기러기 토마토\")\n",
    "# \\2는 두번째 그룹의 값을 의미\n",
    "print(mlist)  # [('토마토', '토', '마'), ('기러기', '기', '러'), ('xyx', 'x', 'y')]\n",
    "\n",
    "# 그룹 캡쳐를 안쓰고 싶은 경우\n",
    "mlist = re.findall(r'(abc)+', \"abc abcabc abcabcabc abbb\")\n",
    "print(mlist)\n",
    "mlist = re.findall(r'(?:abc)+', \"abc abcabc abcabcabc abbb\")\n",
    "print(mlist)"
   ]
  },
  {
   "cell_type": "code",
   "execution_count": 5,
   "metadata": {},
   "outputs": [
    {
     "name": "stdout",
     "output_type": "stream",
     "text": [
      "['14.3', ' 1.2', ' 3.0', ' 9.8']\n",
      "['14.3', '1.2', '3.0', '9.8']\n"
     ]
    }
   ],
   "source": [
    "# (4) split()\n",
    "slist = re.split(r',', '14.3, 1.2, 3.0, 9.8')\n",
    "print(slist)\n",
    "\n",
    "slist = re.split(r',\\s*', '14.3, 1.2, 3.0, 9.8')\n",
    "print(slist)"
   ]
  },
  {
   "cell_type": "code",
   "execution_count": 11,
   "metadata": {},
   "outputs": [
    {
     "name": "stdout",
     "output_type": "stream",
     "text": [
      "810321-*******\n",
      "810321---*******\n",
      "이름:홍길동, 전화번호:010-1234-7777\n",
      "홍길동님 임꺽정님 김현수님\n",
      "1000 220 apple 30\n"
     ]
    }
   ],
   "source": [
    "# (5) sub()\n",
    "# 주민번호 뒷자리를 *로 치환\n",
    "subStr = re.sub(r\"\\d{7}$\", \"*\"*7, \"810321-1234567\")\n",
    "#                 찾을 패턴, 바뀔 문자열, 바뀔 문자열\n",
    "print(subStr)\n",
    "\n",
    "subStr = re.sub(r\"(\\d{6})-\\d{7}\", \"\\g<1>---*******\", \"810321-1234567\")\n",
    "#                                   첫 번째 그룹 값\n",
    "print(subStr)\n",
    "\n",
    "phoneName = '010-1234-7777, 홍길동'\n",
    "# '이름 : 홍길동, 전화번호 : 010-1234-7777'로 치환\n",
    "subStr = re.sub(r'(\\d{3}-\\d{3,4}-\\d{4}),\\s*(\\w+)', '이름:\\g<2>, 전화번호:\\g<1>', phoneName)\n",
    "\n",
    "print(subStr)\n",
    "\n",
    "# 람다식 활용 문자열 치환\n",
    "names = '홍길동 임꺽정 김현수'\n",
    "#이름 '님' 붙이기\n",
    "subStr = re.sub(r'\\w+', lambda e:e.group()+'님', names)\n",
    "#\n",
    "print(subStr)\n",
    "\n",
    "# 숫잘ㄹ를 찾아서 10씩 곱하기\n",
    "subStr = re.sub(r'\\d+', lambda num:str(int(num.group())*10), \"100 22 apple 3\")\n",
    "print(subStr)"
   ]
  }
 ],
 "metadata": {
  "kernelspec": {
   "display_name": "Python 3",
   "language": "python",
   "name": "python3"
  },
  "language_info": {
   "codemirror_mode": {
    "name": "ipython",
    "version": 3
   },
   "file_extension": ".py",
   "mimetype": "text/x-python",
   "name": "python",
   "nbconvert_exporter": "python",
   "pygments_lexer": "ipython3",
   "version": "3.9.13"
  }
 },
 "nbformat": 4,
 "nbformat_minor": 2
}
