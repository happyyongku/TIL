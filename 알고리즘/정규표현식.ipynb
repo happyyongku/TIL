{
 "cells": [
  {
   "cell_type": "markdown",
   "metadata": {},
   "source": [
    "## 정규표현식(Regular Expression)\n",
    "+ 문자열 패턴 매칭, 문자열 검색, 파싱, 문자열 바꿈 등을 위한 패턴 문법\n",
    "+ ex) 이메일 패턴 매칭, 전화번호, 주민번호 패턴 매칭\n",
    "### 기본 표현식\n",
    "+ . : 글자 하나를 의미\n",
    "+ ^ : 문자열의 시작\n",
    "+ $ : 문자열의 끝\n",
    "+ ? : 앞문자가 있어도 되고 없어도 됨. ex) appl?e == apple, appe\n",
    "+ (?!) : 대소문자 구분안함\n",
    "+ | : 다자 택일 (OR조건). ex) a|bpple = apple, bpple\n",
    "### 반복기호\n",
    "+ '+' : 1번 이상. ex) a+pple == apple, aaaaapple =! pple\n",
    "+ '*' : 0번 이상. ex) a+pple == apple, aaaaapple, pple\n",
    "+ {m,n} : m번 이상 n번 이하 반복. ex) ca{2,5}t == caat, caaat, caaaat, caaaaat\n",
    "    + {0,} == '*'과 같음 (0번 이상)\n",
    "    + {1,} == '+'과 같음 (1번 이상)\n",
    "    + {0,1} == '?'과 같음 (0번이상 1번이하)\n",
    "## 문자 클래스\n",
    "+ [] : [] 사이의 문자들과 매칭. ex) [abc]pple == aaple,bpple,cpple != dpple\n",
    "+ 문자 클래스의 특수 용도\n",
    "    + [0-9] : [0123456789] 숫자와 매칭\n",
    "    + [a-z] : 알파벳 소문자와 매칭\n",
    "    + [a-zA-z] : 대소문자 안가리고 모든 알파벳과 매칭\n",
    "    + [ㄱ-ㅎ|ㅏ-ㅣ|가-힣] : 모든 한글과 매칭\n",
    "    + [가-힣] : 한글 글자 하나와 매칭\n",
    "\n",
    "+ [^] : 문자 클래스 안의 꺽쇠 표시는 해당 문자들과 이닌 것 과 매칭\n",
    "    + ex) [^abc]pple == dpple, fpple != apple\n",
    "+ \\d : 모든 숫자와 매칭 [0-9]와 같음\n",
    "+ \\D : 숫자가 아닌 것과 매칭 [^0-9]와 같음\n",
    "+ \\w : 문자 + 숫자 + '_'와 매칭\n",
    "+ \\W : 문자 + 숫자 + '_'가 아닌 것과 매칭\n",
    "+ \\s : 화이트 스페이스 문자와 매칭 [\\t \\b \\r \\f \\v]\n",
    "+ \\S : 화이트 스페이스가 아닌 문자와 매칭\n",
    "\n",
    "+ 정규표현식 앞에  r\"\" 사용\n",
    "    + \\b : 단어의 경계, 공백, 탭, 컴마, 대시등과 매칭 (파이썬에서 활용됨)\n",
    "    + \\B : 단어의 경계가 아닌 것과 매칭 (파이썬에서 활용됨)\n",
    "\n",
    "### 그룹 ()\n",
    "+ () : ()안에 있는 모든 문자와 매칭 또는 글룹 기능이 있음\n",
    "\n",
    "---\n",
    "\n",
    "### 파이썬 re 모듈내의 주요 함수\n",
    "+ match() : 문자열의 처음부터 끝까지 정규식과 매칭되는지 검사\n",
    "    + ex) 주민번호, 전화번호 등 정상적으로 입력되었는지 확인\n",
    "+ search() : 문자열의 전체를 검색하여 정규식과 매칭되는 문자열이 있는지 검사\n",
    "+ findall() : 정규식과 매칭되는 모든 문자열을 리스트로 변환\n",
    "+ split() : 정규식과 매칭되는 문자열을 기준으로 파싱하여 리스트로 반환\n",
    "+ sub() : 정규식과 매칭되는 문자열을 다른 문자열로 바꿔줌"
   ]
  },
  {
   "cell_type": "code",
   "execution_count": 3,
   "metadata": {},
   "outputs": [
    {
     "name": "stdout",
     "output_type": "stream",
     "text": [
      "python\n",
      "791009-1234567\n"
     ]
    }
   ],
   "source": [
    "import re\n",
    "\n",
    "#(1) match\n",
    "text = 'python'\n",
    "pattern = re.compile(\"..thon\")  # 정규표현식 생성\n",
    "m = pattern.match(text)  # 매칭되는 결과가 없으면 None 리턴\n",
    "\n",
    "if m :\n",
    "    print(m.group())\n",
    "else:\n",
    "    print('매칭되지 않습니다.')\n",
    "    \n",
    "text = \"791009-1234567\"\n",
    "m = re.match(\"^\\d{6}-\\d{7}$\", text)\n",
    "\n",
    "if m :\n",
    "    print(m.group())\n",
    "else:\n",
    "    print('매칭되지 않습니다.')"
   ]
  },
  {
   "cell_type": "code",
   "execution_count": 5,
   "metadata": {},
   "outputs": [
    {
     "name": "stdout",
     "output_type": "stream",
     "text": [
      "python\n",
      "일치하는 문자열 : care\n",
      "입력받은 문자열 : Good care caee\n",
      "일치하는 문자열의 시작 인덱스 : 5\n",
      "일치하는 문자열의 마지막 인덱스 : 9\n",
      "일치하는 문자열의 시작 및 마지막 인덱스 : (5, 9)\n"
     ]
    }
   ],
   "source": [
    "# (2) search()\n",
    "text = 'program : python'\n",
    "pattern = re.compile(\"..thon\")  # 정규표현식 생성\n",
    "m = pattern.search(text)  # 매칭되는 결과가 없으면 None 리턴\n",
    "\n",
    "if m :\n",
    "    print(m.group())\n",
    "else:\n",
    "    print('매칭되지 않습니다.')\n",
    "    \n",
    "m = re.search(\"ca.e\", \"Good care caee\")\n",
    "print(\"일치하는 문자열 :\", m.group())\n",
    "print(\"입력받은 문자열 :\", m.string)\n",
    "print(\"일치하는 문자열의 시작 인덱스 :\", m.start())\n",
    "print(\"일치하는 문자열의 마지막 인덱스 :\", m.end())\n",
    "print(\"일치하는 문자열의 시작 및 마지막 인덱스 :\", m.span())\n",
    "\n"
   ]
  },
  {
   "cell_type": "code",
   "execution_count": 8,
   "metadata": {},
   "outputs": [
    {
     "name": "stdout",
     "output_type": "stream",
     "text": [
      "['berry', '1berry', '10berry', 'strawberry']\n",
      "['one', 'self', 'the', 'one']\n",
      "line\n",
      "(15, 19)\n"
     ]
    }
   ],
   "source": [
    "# (3) findall()\n",
    "mlist = re.findall(\"\\w*berry\", \"berry 1berry 10berry apple strawberry\")\n",
    "print(mlist)\n",
    "\n",
    "mlist = re.findall(\"one|self|the\", \"oneself is the one thing\")\n",
    "print(mlist)\n",
    "\n",
    "# 'line'과 일치하지만 line을 포함한 글자들은 매칭되지 않도록 검색\n",
    "# outline(x), linear(x), line(o)\n",
    "m = re.search(r\"\\bline\\b\", \"outline linear line\")\n",
    "print(m.group())\n",
    "print(m.span())"
   ]
  }
 ],
 "metadata": {
  "kernelspec": {
   "display_name": "Python 3",
   "language": "python",
   "name": "python3"
  },
  "language_info": {
   "codemirror_mode": {
    "name": "ipython",
    "version": 3
   },
   "file_extension": ".py",
   "mimetype": "text/x-python",
   "name": "python",
   "nbconvert_exporter": "python",
   "pygments_lexer": "ipython3",
   "version": "3.9.13"
  }
 },
 "nbformat": 4,
 "nbformat_minor": 2
}
