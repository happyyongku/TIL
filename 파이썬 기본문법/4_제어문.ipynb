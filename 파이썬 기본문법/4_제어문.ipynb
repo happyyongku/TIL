{
 "cells": [
  {
   "cell_type": "markdown",
   "metadata": {},
   "source": [
    "### for ~ else 구문과 while ~ else 구문\n",
    "+ 반복문이 정상적으로 완료되었을 때 실행하는 코드 블록 정의\n",
    "+ 반복문이 break, 에러등으로 중단되지 않고\n",
    "+ 정상적으로 모든 요소를 순회하거나 반복조건이 False되었을 때 else 구문 실행\n",
    "\n",
    "```python\n",
    "for elem in iterable :\n",
    "    if break_cond :\n",
    "        #특정 조건하에 반복문 종료\n",
    "    \n",
    "else :\n",
    "    # 정상적으로 완료된 경우 실행될 코드\n",
    "```\n",
    "```python\n",
    "while cond:\n",
    "    if break_cond :\n",
    "        #특정 조건하에 반복문 종료\n",
    "    \n",
    "else :\n",
    "    # 정상적으로 완료된 경우 실행될 코드\n",
    "```"
   ]
  },
  {
   "cell_type": "code",
   "execution_count": 3,
   "metadata": {},
   "outputs": [
    {
     "name": "stdout",
     "output_type": "stream",
     "text": [
      "[인덱스2에서 3을 찾았습니다.]\n",
      "7을 찾지 못했습니다.\n",
      "10을 찾지 못했습니다.\n"
     ]
    }
   ],
   "source": [
    "# for~else 구문 예시\n",
    "\n",
    "def find_number(numbers, target):\n",
    "    for i, num in enumerate(numbers):\n",
    "        if num == target :\n",
    "            print(f'[인덱스{i}에서 {target}을 찾았습니다.]')\n",
    "            break\n",
    "    else : \n",
    "        print(f'{target}을 찾지 못했습니다.')\n",
    "            \n",
    "nums = [1,2,3,4,5]\n",
    "find_number(nums, 3)\n",
    "find_number(nums, 7)\n",
    "find_number([], 10)"
   ]
  },
  {
   "cell_type": "code",
   "execution_count": 6,
   "metadata": {},
   "outputs": [
    {
     "name": "stdout",
     "output_type": "stream",
     "text": [
      "[인덱스2에서 3을 찾았습니다.]\n",
      "7을 찾지 못했습니다.\n",
      "10을 찾지 못했습니다.\n"
     ]
    }
   ],
   "source": [
    "# while~else 구문 예시\n",
    "\n",
    "def find_number(numbers, target):\n",
    "    i = 0\n",
    "    while i < len(numbers):\n",
    "        if numbers[i] == target :\n",
    "            print(f'[인덱스{i}에서 {target}을 찾았습니다.]')\n",
    "            break\n",
    "        i += 1\n",
    "    else : \n",
    "        print(f'{target}을 찾지 못했습니다.')\n",
    "        \n",
    "nums = [1,2,3,4,5]\n",
    "find_number(nums, 3)\n",
    "find_number(nums, 7)\n",
    "find_number([], 10)"
   ]
  },
  {
   "cell_type": "code",
   "execution_count": 12,
   "metadata": {},
   "outputs": [
    {
     "name": "stdout",
     "output_type": "stream",
     "text": [
      "코드 실행 시간 : 0.08470439910888672초\n",
      "코드 실행 시간 : 0.03853654861450195초\n"
     ]
    }
   ],
   "source": [
    "# list comprehesion 과 list 속도 비교\n",
    "\n",
    "import time  # 시간 관련 라이브러리\n",
    "\n",
    "# 1) 리스트에 값 추가\n",
    "start_t = time.time()\n",
    "nums = []\n",
    "for i in range(int(1e6)):\n",
    "    nums.append(i)\n",
    "end_t = time.time()\n",
    "\n",
    "# 코드 실행 시간 출력\n",
    "exec_time = end_t - start_t\n",
    "print(f'코드 실행 시간 : {exec_time}초')\n",
    "\n",
    "# 2) list comprehension\n",
    "start_t = time.time()\n",
    "nums = [i for i in range(int(1e6))]\n",
    "end_t = time.time()\n",
    "exec_time = end_t - start_t\n",
    "print(f'코드 실행 시간 : {exec_time}초')\n"
   ]
  },
  {
   "cell_type": "code",
   "execution_count": 19,
   "metadata": {},
   "outputs": [
    {
     "name": "stdout",
     "output_type": "stream",
     "text": [
      "<generator object generator_func at 0x000001E696CB3820>\n",
      "1번 항목 처리\n",
      "1\n",
      "2번 항목 처리\n",
      "2\n",
      "3번 항목 처리\n",
      "3\n",
      "1번 항목 처리\n",
      "1\n",
      "2번 항목 처리\n",
      "2\n",
      "3번 항목 처리\n",
      "3\n"
     ]
    }
   ],
   "source": [
    "# 제너레이터(generator)\n",
    "# 제너레이터 객체를 호출 할 때마다 yield까지 문장을 실행하고 멈춤\n",
    "\n",
    "# 제너레이터 함수 예시\n",
    "\n",
    "def generator_func():\n",
    "    print('1번 항목 처리')\n",
    "    yield 1 # 1 반환 후 대기\n",
    "    print('2번 항목 처리')\n",
    "    yield 2 # 2 반환 후 대기\n",
    "    print('3번 항목 처리')\n",
    "    yield 3 # 3 반환 후 종료\n",
    "\n",
    "g = generator_func()\n",
    "print(g)\n",
    "print(g.__next__())\n",
    "print(g.__next__())\n",
    "print(g.__next__())\n",
    "# print(g.__next__()) # Error 발생\n",
    "\n",
    "g = generator_func()\n",
    "\n",
    "for i in g :\n",
    "    print(i)\n",
    "    \n",
    "# generator 요소를 모두 참조한 겨우 재사용 불가능\n",
    "# 아래 코드는 동작을 하지 않음\n",
    "for i in g :\n",
    "    print(i)\n",
    "\n",
    "# 다시 제너레이터 함수를 사용하고 싶을 때 변수에 재할당을 해줘야함\n",
    "g = generator_func()\n",
    "for i in g :\n",
    "    print(i)\n",
    "    \n"
   ]
  },
  {
   "cell_type": "markdown",
   "metadata": {},
   "source": [
    "### 제너레이터 사용 이유\n",
    "+ 제너레이터로 반복가능한 객체를 만들지 않으면 선언과 동시에 메모리 소요\n",
    "+ 데이터 양이 많아졌을 때, 아래와 같은 코드는 메모리 효율성이 좋지 않음.\n",
    "```python\n",
    "nums = [i for i in range(int(1e6))]\n",
    "print(nums)\n",
    "```\n",
    "\n",
    "+ 제너레이터를 통해 반복가능한 객체를 생성하고 호출하면 다음 순서를 기억함\n",
    "+ 호출하기 전에는 모든 값을 메모리에 올리지 않음 -> 지연 평가 방식 (Lazy Evaluation) \n",
    "\n",
    "```python\n",
    "nums = (i for i in range(int(1e6))) # 제너레이터 컴프리헨션\n",
    "print(nums)  # 숫자가 출력되지 않음\n",
    "for n in nums :\n",
    "    print(n, end = ',')\n",
    "```\n",
    "\n",
    "### 제너레이터 사용\n",
    "+ 대용량 데이터 처리에 사용\n",
    "+ 지연평가로 인해 특정 조건을 만족하는 값을 찾는 경우\n",
    "+ 무한 시퀀스를 만들 시 사용\n",
    "+ (* 작은 크기의 데이터나 한 번에 모든 값을 필요로 하는 경우 리스트 사용)\n",
    "```python\n",
    "# 무한 시퀀스 예제\n",
    "def fibonacci_generator():\n",
    "    n1,n2 = 0,1\n",
    "    while True : \n",
    "        yield n1\n",
    "        n1, n2 = n2, n1 + n2\n",
    "\n",
    "g = fibonacci_generator()\n",
    "\n",
    "for n in g:\n",
    "    print(n)  # 무한히 반복되는 for 문\n",
    "# 10개의 피보나치 수 출력\n",
    "for _ in range(10) :\n",
    "    print(next(g))  # g.__next__()\n",
    "print(next(g)) # 11번째 피보나치 수\n",
    "print(next(g)) # 12번째 피보나치 수\n",
    "```\n",
    "\n",
    "\n",
    "\n",
    "\n",
    "\n",
    "\n"
   ]
  },
  {
   "cell_type": "code",
   "execution_count": 21,
   "metadata": {},
   "outputs": [
    {
     "name": "stdout",
     "output_type": "stream",
     "text": [
      "True\n",
      "False\n",
      "True\n",
      "False\n",
      "------------------------------\n",
      "True\n",
      "False\n",
      "False\n",
      "True\n"
     ]
    }
   ],
   "source": [
    "# 조건 함수\n",
    "# all():\n",
    "# - 반복 가능한 자료형의 모든 요소가 참이면 참을 반환\n",
    "# - 하나라도 거짓이면 거짓 반환\n",
    "# - 인자로 받은 요소가 비어 있으면 참 반환\n",
    "print(all([1,2,3,\"Hello\"])) # True\n",
    "print(all([1,2,3,\"\"]))  # False\n",
    "print(all([]))  # True\n",
    "print(all(i for i in range(3)))  # False\n",
    "print('-'*30)\n",
    "\n",
    "\n",
    "# any() :\n",
    "# - 반복 가능한 자료형의 요소가 하나라도 참이면 참을 반환\n",
    "# - 모든 요소가 거짓인 경우 거짓 반환\n",
    "# - 인자로 받은 요소가 비어 있으면 거짓 반환\n",
    "print(any([0,0,0,\"hello\"])) # True\n",
    "print(any([0,0,0,\"\"])) # False\n",
    "print(any([])) #False\n",
    "print(any(i for i in range(3)))  # True\n"
   ]
  },
  {
   "cell_type": "code",
   "execution_count": 37,
   "metadata": {},
   "outputs": [
    {
     "name": "stdout",
     "output_type": "stream",
     "text": [
      "코드 실행 시간 : 0.04444074630737305초\n",
      "코드 실행 시간 : 0.0초\n"
     ]
    }
   ],
   "source": [
    "start_t = time.time()\n",
    "all([i for i in range(int(1e6))])  # 리스트 컴프리헨션\n",
    "end_t = time.time()\n",
    "exec_time = end_t - start_t\n",
    "print(f'코드 실행 시간 : {exec_time}초')  # 다 만들고 0부터 조건 비교\n",
    "\n",
    "start_t = time.time()\n",
    "all(i for i in range(int(1e6)))  # 제너레이터 컴프리헨션\n",
    "end_t = time.time()\n",
    "exec_time = end_t - start_t\n",
    "print(f'코드 실행 시간 : {exec_time}초')  # 0부터 하나씩 조건 비교"
   ]
  },
  {
   "cell_type": "code",
   "execution_count": 41,
   "metadata": {},
   "outputs": [
    {
     "name": "stdout",
     "output_type": "stream",
     "text": [
      "5 홀수\n",
      "5 홀수\n",
      "['짝수', '짝수', '짝수', '짝수', '짝수']\n"
     ]
    }
   ],
   "source": [
    "# 삼항 연산자 조건문\n",
    "# 변수 = 참 값 if 조건식 else 거짓 값\n",
    "# 짝수, 홀수 판별해서 타입 얻음\n",
    "num = 5\n",
    "num_type = \"짝수\" if num % 2 == 0 else \"홀수\"\n",
    "print(num, num_type)\n",
    "\n",
    "num = 5\n",
    "if num % 2 == 0:\n",
    "    num_type = \"짝수\"\n",
    "else :\n",
    "    num_type = '홀수'\n",
    "print(num, num_type)\n",
    "\n",
    "nums = [1,2,3,4,5,6,7,8,9,10]\n",
    "nums = [\"짝수\" if n % 2 == 0 else \"홀수\" for n in nums if n %2 == 0]\n",
    "temp = []\n",
    "for n in nums :\n",
    "    if n % 2 == 0:\n",
    "        temp.append(\"짝수\" if n % 2 == 0 else \"홀수\")\n",
    "\n",
    "print(nums)"
   ]
  },
  {
   "cell_type": "code",
   "execution_count": null,
   "metadata": {},
   "outputs": [],
   "source": []
  }
 ],
 "metadata": {
  "kernelspec": {
   "display_name": "Python 3",
   "language": "python",
   "name": "python3"
  },
  "language_info": {
   "codemirror_mode": {
    "name": "ipython",
    "version": 3
   },
   "file_extension": ".py",
   "mimetype": "text/x-python",
   "name": "python",
   "nbconvert_exporter": "python",
   "pygments_lexer": "ipython3",
   "version": "3.9.13"
  }
 },
 "nbformat": 4,
 "nbformat_minor": 2
}
