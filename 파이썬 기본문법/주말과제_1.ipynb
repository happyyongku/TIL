{
 "cells": [
  {
   "cell_type": "code",
   "execution_count": null,
   "metadata": {},
   "outputs": [],
   "source": [
    "def is_leap_year(year):\n",
    "    pass\n",
    "\n",
    "def get_week():\n",
    "    pass"
   ]
  },
  {
   "cell_type": "code",
   "execution_count": null,
   "metadata": {},
   "outputs": [],
   "source": [
    "# 3\n",
    "year, mon = (int(d) for d in input().split()) # 제너레이터 컴프리헨션\n",
    "last_days = {1:31, 2:28, 3:31, 4:30, 5:31, 6:30, 7:31, 8:31, 9:30, 10:31, 11:30, 12:31}\n",
    "if mon == 2 and is_leap_year(year):\n",
    "    last_days[mon] = 29\n",
    "print(f'{year:0>4}년 {mon:0>2}월, end = \" - \"')\n",
    "for d in range(1, last_days[mon]+1) :\n",
    "    if d != last_days[mon]:\n",
    "        print(f'{d:0>2}일', end=', ')\n",
    "    else :\n",
    "        print(f'{d:0>2}일')\n"
   ]
  },
  {
   "cell_type": "code",
   "execution_count": 5,
   "metadata": {},
   "outputs": [
    {
     "ename": "SyntaxError",
     "evalue": "invalid syntax (1955668907.py, line 24)",
     "output_type": "error",
     "traceback": [
      "\u001b[1;36m  Cell \u001b[1;32mIn[5], line 24\u001b[1;36m\u001b[0m\n\u001b[1;33m    for i in range(len(day_matrix))\u001b[0m\n\u001b[1;37m                                   ^\u001b[0m\n\u001b[1;31mSyntaxError\u001b[0m\u001b[1;31m:\u001b[0m invalid syntax\n"
     ]
    }
   ],
   "source": [
    "# 4\n",
    "from pprint import pprint\n",
    "import math\n",
    "\n",
    "year, mon = (int(d) for d in input().split()) # 제너레이터 컴프리헨션\n",
    "last_days = {1:31, 2:28, 3:31, 4:30, 5:31, 6:30, 7:31, 8:31, 9:30, 10:31, 11:30, 12:31}\n",
    "if mon == 2 and is_leap_year(year):\n",
    "    last_days[mon] = 29\n",
    "\n",
    "day_matrix = [['Sun','Mon','Tue','Wed','Thu','Fri','Sat']] + [[0]*7 for _ in range(6)] # 깊은 복사\n",
    "# day_matrix = ['Sun','Mon','Tue','Wed','Thu','Fri','Sat'] + [[0]*7] *6 # 얕은 복사\n",
    "pprint(day_matrix)\n",
    "i, j = 1, get_week(year,mon,1)\n",
    "for d in range(1,last_days[mon]+1):\n",
    "    day_matrix[i][j] = d\n",
    "    mok, res = divmod(j+1,7)\n",
    "    i, j = i+mok, res\n",
    "pprint(day_matrix)\n",
    "\n",
    "# 년, 월 출력\n",
    "title = f'{year:0>4}년 {mon:0>2}월'\n",
    "print(f'{title:^25}')\n",
    "\n",
    "for i in range(len(day_matrix)):\n",
    "    if i == 0 or sum(day_matrix[i]) != 0:\n",
    "        for j in range(len(day_matrix[0])):\n",
    "            cur_d = day_matrix[i][j]\n",
    "            if cur_d != 0:\n",
    "                if j==0:\n",
    "                    print(f'\\033[31m{cur_d:>3}',end=' ')\n",
    "                elif j == 6:\n",
    "                    print(f'\\033[34m{cur_d:>3}',end=' ')\n",
    "                else:\n",
    "                    print(f'{cur_d:>3}',end=' ')\n",
    "            else :\n",
    "                print(f'{\"\":>3}',end=' ')\n",
    "        print()\n",
    "        "
   ]
  },
  {
   "cell_type": "code",
   "execution_count": null,
   "metadata": {},
   "outputs": [],
   "source": []
  }
 ],
 "metadata": {
  "kernelspec": {
   "display_name": "Python 3",
   "language": "python",
   "name": "python3"
  },
  "language_info": {
   "codemirror_mode": {
    "name": "ipython",
    "version": 3
   },
   "file_extension": ".py",
   "mimetype": "text/x-python",
   "name": "python",
   "nbconvert_exporter": "python",
   "pygments_lexer": "ipython3",
   "version": "3.9.13"
  }
 },
 "nbformat": 4,
 "nbformat_minor": 2
}
