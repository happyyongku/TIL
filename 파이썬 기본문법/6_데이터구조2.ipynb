{
 "cells": [
  {
   "cell_type": "code",
   "execution_count": null,
   "metadata": {},
   "outputs": [],
   "source": []
  },
  {
   "cell_type": "markdown",
   "metadata": {},
   "source": [
    "### 해시 값\n",
    "- 문자열의 고유한 번호\n",
    "- 문자열의 유니코드 값과 할당된 주소 값을 결합하여 해시 값을 생성\n",
    "- 해시 값을 쓰는 이유\n",
    "    - 검색을 할 때 정수인 해시 값을 쓰는게 빠르기 때문\n",
    "    - 값을 비교할 때 해시 코드를 비교\n",
    "- 서로 다른 문자열이더라도 같은 해시 값으로 중복될 수 있음\n",
    "- 값을 비교할 때 해시 값으로 비교, 해시 값이 다르다면, 다르다고 결론\n",
    "- 서로 다른 문자열의 해시 값이 동일한 경우 문자열의 값을 비교\n",
    "\n",
    "### 해시 테이블\n",
    "- 같은 해시 값은 해시 테이블 내에서 리스트 형식으로 저장\n",
    "- 추가할 것이 있으면 그 것의 해시 값을 해시 테이블에 할당\n",
    "\n",
    "    "
   ]
  },
  {
   "cell_type": "code",
   "execution_count": 3,
   "metadata": {},
   "outputs": [
    {
     "name": "stdout",
     "output_type": "stream",
     "text": [
      "12345\n",
      "12345\n",
      "0112233445\n",
      "[0, 1, 2, 3, 4, 5, 6, 7, 8, 9]\n"
     ]
    }
   ],
   "source": [
    "# 리스트와 반복문\n",
    "# 값만 참조\n",
    "num_list = [1,2,3,4,5]\n",
    "for n in num_list:\n",
    "    print(n, end='')\n",
    "print()\n",
    "\n",
    "#인덱스를 통한 참조\n",
    "# 리스트 내의 요소를 조작할 때\n",
    "for i in range(len(num_list)):\n",
    "    print(num_list[i], end='')\n",
    "print()\n",
    "\n",
    "#인덱스와 값을 동시에 참조\n",
    "for i,n in enumerate(num_list):\n",
    "    print(i, end='')\n",
    "    print(n,end='')\n",
    "print()\n",
    "\n",
    "#리스트 컴프리헨션\n",
    "num_list = [i for i in range(10)]\n",
    "print(num_list)"
   ]
  },
  {
   "cell_type": "code",
   "execution_count": 24,
   "metadata": {},
   "outputs": [
    {
     "name": "stdout",
     "output_type": "stream",
     "text": [
      "{'사과', '귤', '포도'}\n",
      "사과\n",
      "귤\n",
      "포도\n"
     ]
    }
   ],
   "source": [
    "# 셋 컴프리헨션\n",
    "fruits = ['사과','사과','포도','귤']\n",
    "fruit_set = {f for f in fruits}\n",
    "print(fruit_set)\n",
    "\n",
    "# 셋 반복문\n",
    "# 어떤 요소가 먼저 출력될지 순서는 알 수 없음\n",
    "for f in fruit_set :\n",
    "    print(f)"
   ]
  },
  {
   "cell_type": "code",
   "execution_count": 34,
   "metadata": {},
   "outputs": [
    {
     "name": "stdout",
     "output_type": "stream",
     "text": [
      "{'사과': 100, '딸기': 300, '포도': 50}\n",
      "사과 100\n",
      "딸기 300\n",
      "포도 50\n",
      "100\n",
      "300\n",
      "50\n",
      "과일의 모든 개수 450\n",
      "{'국어': [30], '수학': [50]}\n",
      "{'국어': [30], '수학': [50, 80], '영어': [40]}\n",
      "{'국어': [30], '수학': [50, 80], '영어': [40, 30]}\n"
     ]
    }
   ],
   "source": [
    "# 딕셔너리 컴프리헨션\n",
    "fruit_names = ['사과','딸기','포도']\n",
    "fruit_nums = [100,300,50]\n",
    "fruit_dict = {k : v for k,v in zip(fruit_names,fruit_nums)}\n",
    "print(fruit_dict)\n",
    "\n",
    "# 딕셔너리 반복문\n",
    "for k, v in fruit_dict.items() :\n",
    "    print(k,v)\n",
    "    \n",
    "for v in fruit_dict.values():\n",
    "    print(v)\n",
    "\n",
    "print(f'과일의 모든 개수 {sum(fruit_dict.values())}')\n",
    "\n",
    "# setdefault() 많이 사용되느 ㄴ경우\n",
    "scores_dict = {'국어':[],'수학':[]}\n",
    "scores_dict['국어'].append(30)\n",
    "scores_dict['수학'].append(50)\n",
    "print(scores_dict)\n",
    "\n",
    "scores_dict.setdefault('영어',[]).append(40)\n",
    "scores_dict.setdefault('수학',[]).append(80)\n",
    "print(scores_dict) # 안정적으로 키 값에 값을 할당 가능\n",
    "# setdefault는 값이 컬렉션으로 되어있는 경우 유용(리스트, 셋, 딕셔너리)\n",
    "\n",
    "# setdefault가 없는 경우 아래와 같이 구현해야 함\n",
    "if '영어' in scores_dict:\n",
    "    scores_dict['영어'].append(30)\n",
    "else :\n",
    "    scores_dict['영어'] = []\n",
    "    scores_dict['영어'].append(30)\n",
    "\n",
    "print(scores_dict)"
   ]
  },
  {
   "cell_type": "code",
   "execution_count": 35,
   "metadata": {},
   "outputs": [
    {
     "name": "stdout",
     "output_type": "stream",
     "text": [
      "H\n",
      "e\n",
      "l\n",
      "l\n",
      "o\n",
      " \n",
      "W\n",
      "o\n",
      "r\n",
      "l\n",
      "d\n",
      "~\n",
      "!\n",
      "H\n",
      "e\n",
      "l\n",
      "l\n",
      "o\n",
      " \n",
      "W\n",
      "o\n",
      "r\n",
      "l\n",
      "d\n",
      "~\n",
      "!\n",
      "0 H\n",
      "1 e\n",
      "2 l\n",
      "3 l\n",
      "4 o\n",
      "5  \n",
      "6 W\n",
      "7 o\n",
      "8 r\n",
      "9 l\n",
      "10 d\n",
      "11 ~\n",
      "12 !\n"
     ]
    }
   ],
   "source": [
    "# 문자열 반복문\n",
    "text = 'Hello World~!'\n",
    "\n",
    "# 반복문으로 한 글자씩 참조\n",
    "for ch in text :\n",
    "    print(ch)\n",
    "\n",
    "# 인덱스를 통한 참조\n",
    "for i in range(len(text)):\n",
    "    print(text[i])\n",
    "\n",
    "for i,ch in enumerate(text) :\n",
    "    print(i,ch)"
   ]
  }
 ],
 "metadata": {
  "kernelspec": {
   "display_name": "Python 3",
   "language": "python",
   "name": "python3"
  },
  "language_info": {
   "codemirror_mode": {
    "name": "ipython",
    "version": 3
   },
   "file_extension": ".py",
   "mimetype": "text/x-python",
   "name": "python",
   "nbconvert_exporter": "python",
   "pygments_lexer": "ipython3",
   "version": "3.9.13"
  }
 },
 "nbformat": 4,
 "nbformat_minor": 2
}
