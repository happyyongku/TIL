{
 "cells": [
  {
   "cell_type": "code",
   "execution_count": null,
   "metadata": {},
   "outputs": [],
   "source": []
  },
  {
   "cell_type": "markdown",
   "metadata": {},
   "source": [
    "# 함수\n",
    "## 패킹과 언패킹\n",
    "```\n",
    "python\n",
    "a, b, c = 1,2,3\n",
    "print(a,b,c)\n",
    "```"
   ]
  },
  {
   "cell_type": "code",
   "execution_count": 1,
   "metadata": {},
   "outputs": [
    {
     "name": "stdout",
     "output_type": "stream",
     "text": [
      "1 2 3\n"
     ]
    }
   ],
   "source": [
    "a,b,c = 1,2,3\n",
    "print(a,b,c)"
   ]
  },
  {
   "cell_type": "code",
   "execution_count": 5,
   "metadata": {},
   "outputs": [
    {
     "name": "stdout",
     "output_type": "stream",
     "text": [
      "[1, 2, 3, 6, 8]\n",
      "[8, 6, 3, 2, 1]\n",
      "[1, 2, 3, 6, 8]\n"
     ]
    }
   ],
   "source": [
    "# 람다\n",
    "# 정렬 예시\n",
    "\n",
    "radius = [1,2,6,3,8]\n",
    "\n",
    "print(sorted(radius))\n",
    "print(sorted(radius, reverse = True))\n",
    "\n",
    "#원의 넓이로 정렬\n",
    "print(sorted(radius, key=lambda r:r**2*3.14))"
   ]
  },
  {
   "cell_type": "code",
   "execution_count": 1,
   "metadata": {},
   "outputs": [
    {
     "name": "stdout",
     "output_type": "stream",
     "text": [
      "[(1, 1), (1, 2), (3, 3)]\n",
      "[(1, 1), (1, 2), (3, 3)]\n",
      "[(1, 1), (1, 2), (3, 3)]\n"
     ]
    }
   ],
   "source": [
    "# 사각형 예제\n",
    "rects = [(1,2),(3,3),(1,1)] # (가로, 세로 길이)\n",
    "print(sorted(rects)) # 가로 길이 오름차순으로 정렬\n",
    "print(sorted(rects,key=lambda rect:rect[1])) # 세로 길이 오름차순으로 정렬\n",
    "print(sorted(rects,key=lambda rect:rect[0]*rect[1])) # 세로 길이 오름차순으로 정렬\n"
   ]
  },
  {
   "cell_type": "code",
   "execution_count": 4,
   "metadata": {},
   "outputs": [
    {
     "name": "stdout",
     "output_type": "stream",
     "text": [
      "[(1, 2), (3, 3), (1, 3)]\n"
     ]
    }
   ],
   "source": [
    "# 원하는 데이터만 가져오고 싶은 경우\n",
    "# filter(람다, 순환가능한 자료형)\n",
    "rects = [(1,2),(3,3),(1,1),(1,3)]  # (가로, 세로 길이)\n",
    "\n",
    "# 넓이가 1초과인 사각형만 얻음\n",
    "# 람다 표현식에는 T,F 구분이 가능한 식이 들어가야 함\n",
    "print(list(filter(lambda x:x[0]*x[1] > 1, rects)))"
   ]
  },
  {
   "cell_type": "code",
   "execution_count": 8,
   "metadata": {},
   "outputs": [
    {
     "name": "stdout",
     "output_type": "stream",
     "text": [
      "[12.56, 28.26, 28.26, 19.625, 254.34]\n"
     ]
    }
   ],
   "source": [
    "# Quiz\n",
    "radius = [1,2,3,3,2.5,9]\n",
    "# 원의 넓이가 10 이상인 데이터만 출력하세요\n",
    "# map, filter 모두 사용\n",
    "area_map = list(map(lambda x:x**2*3.14,radius))\n",
    "area = list(filter(lambda x:x>10, area_map))\n",
    "print(area)"
   ]
  }
 ],
 "metadata": {
  "kernelspec": {
   "display_name": "Python 3",
   "language": "python",
   "name": "python3"
  },
  "language_info": {
   "codemirror_mode": {
    "name": "ipython",
    "version": 3
   },
   "file_extension": ".py",
   "mimetype": "text/x-python",
   "name": "python",
   "nbconvert_exporter": "python",
   "pygments_lexer": "ipython3",
   "version": "3.9.13"
  }
 },
 "nbformat": 4,
 "nbformat_minor": 2
}
