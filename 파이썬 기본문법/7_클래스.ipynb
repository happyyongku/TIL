{
 "cells": [
  {
   "cell_type": "code",
   "execution_count": 2,
   "metadata": {},
   "outputs": [
    {
     "name": "stdout",
     "output_type": "stream",
     "text": [
      "1 홍길동, 25\n",
      "False\n",
      "True\n",
      "{(1 홍길동, 25), (2 임꺽정, 30)}\n"
     ]
    }
   ],
   "source": [
    "class Person :\n",
    "    def __init__(self, id, name, age) :\n",
    "        self.id = id\n",
    "        self.name = name\n",
    "        self.age = age\n",
    "    \n",
    "    #Person 객체가 print()함수로 출력될 때 문장\n",
    "    def __str__(self) -> str:\n",
    "        return f\"{self.id} {self.name}, {self.age}\"\n",
    "    \n",
    "    #Person 객체가 컬렉션에 추가 되었을 때 출력될 문장 \n",
    "    def __repr__(self) -> str:\n",
    "        return f\"({self.id} {self.name}, {self.age})\"\n",
    "    \n",
    "    # #Person 객체의 해시코드 정의\n",
    "    def __hash__(self):\n",
    "        return hash(self.id) \n",
    "    \n",
    "    #Person 객체끼리 동등한지 '==' 비교연산 정의\n",
    "    def __eq__(self, other) -> bool:\n",
    "        return self.id == other.id\n",
    "    \n",
    "\n",
    "p1 = Person(1, '홍길동', 25)\n",
    "p2 = Person(2, '임꺽정', 30)\n",
    "p3 = Person(1, '김수로', 34)\n",
    "\n",
    "print(p1)\n",
    "print(p1==p2)\n",
    "print(p1==p3)\n",
    "\n",
    "p_set = {p1, p2, p3} #p3 추가 안됨\n",
    "print(p_set) # __repr__(self) 정의 안하면 원하는 출력이 안됨"
   ]
  }
 ],
 "metadata": {
  "kernelspec": {
   "display_name": "Python 3",
   "language": "python",
   "name": "python3"
  },
  "language_info": {
   "codemirror_mode": {
    "name": "ipython",
    "version": 3
   },
   "file_extension": ".py",
   "mimetype": "text/x-python",
   "name": "python",
   "nbconvert_exporter": "python",
   "pygments_lexer": "ipython3",
   "version": "3.9.13"
  }
 },
 "nbformat": 4,
 "nbformat_minor": 2
}
